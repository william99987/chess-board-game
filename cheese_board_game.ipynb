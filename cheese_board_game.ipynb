{
 "cells": [
  {
   "attachments": {
    "FIT-typographic-color-400x70.png": {
     "image/png": "[encoded data removed]"
    }
   },
   "cell_type": "markdown",
   "id": "92f03636",
   "metadata": {},
   "source": [
    "![FIT-typographic-color-400x70.png](attachment:FIT-typographic-color-400x70.png)"
   ]
  },
  {
   "cell_type": "markdown",
   "id": "354cac89",
   "metadata": {},
   "source": [
    "# FIT9136 Algorithms and Programming Foundations in Python \n",
    "# 2023 Semester 2\n",
    "## Assignment 1"
   ]
  },
  {
   "cell_type": "markdown",
   "id": "c62d3b7b",
   "metadata": {},
   "source": [
    "**Student name:** WEILIANG HUANG <br/>\n",
    "**Student ID:** 34370862 <br/>\n",
    "**Creation date:** 09/AUG/2023 <br/>\n",
    "**Last modified date:**  <br/>"
   ]
  },
  {
   "cell_type": "code",
   "execution_count": 2,
   "id": "2c949fc4",
   "metadata": {},
   "outputs": [],
   "source": [
    "# Libraries to import (if any)"
   ]
  },
  {
   "cell_type": "markdown",
   "id": "d3112ad4",
   "metadata": {},
   "source": [
    "### 3.1 Game menu function"
   ]
  },
  {
   "cell_type": "code",
   "execution_count": 3,
   "id": "7fdc2353",
   "metadata": {},
   "outputs": [],
   "source": [
    " # Implement code for 3.1 here\n",
    "#print the menu out\n",
    "def game_menu():\n",
    "    print(\"1.start a game\")\n",
    "    print(\"2.print the board\")\n",
    "    print(\"3.place a stone\")\n",
    "    print(\"4.reset the game\")\n",
    "    print(\"5.exit\")"
   ]
  },
  {
   "cell_type": "code",
   "execution_count": 4,
   "id": "5baf9ad9",
   "metadata": {},
   "outputs": [],
   "source": [
    "# Test code for 3.1 here [The code in this cell should be commented]\n"
   ]
  },
  {
   "cell_type": "markdown",
   "id": "542881aa",
   "metadata": {},
   "source": [
    "### 3.2 Creating the Board"
   ]
  },
  {
   "cell_type": "code",
   "execution_count": 5,
   "id": "5c8cb479",
   "metadata": {},
   "outputs": [
    {
     "name": "stdout",
     "output_type": "stream",
     "text": [
      "{'A': 0, 'B': 0, 'C': 0, 'D': 0, 'E': 0, 'F': 0, 'G': 0, 'H': 0, 'I': 0}\n",
      "{'A': 0, 'B': 0, 'C': 0, 'D': 0, 'E': 0, 'F': 0, 'G': 0, 'H': 0, 'I': 0}\n",
      "{'A': 0, 'B': 0, 'C': 0, 'D': 0, 'E': 0, 'F': 0, 'G': 0, 'H': 0, 'I': 0}\n",
      "{'A': 0, 'B': 0, 'C': 0, 'D': 0, 'E': 0, 'F': 0, 'G': 0, 'H': 0, 'I': 0}\n",
      "{'A': 0, 'B': 0, 'C': 0, 'D': 0, 'E': 0, 'F': 0, 'G': 0, 'H': 0, 'I': 0}\n",
      "{'A': 0, 'B': 0, 'C': 0, 'D': 0, 'E': 0, 'F': 0, 'G': 0, 'H': 0, 'I': 0}\n",
      "{'A': 0, 'B': 0, 'C': 0, 'D': 0, 'E': 0, 'F': 0, 'G': 0, 'H': 0, 'I': 0}\n",
      "{'A': 0, 'B': 0, 'C': 0, 'D': 0, 'E': 0, 'F': 0, 'G': 0, 'H': 0, 'I': 0}\n",
      "{'A': 0, 'B': 0, 'C': 0, 'D': 0, 'E': 0, 'F': 0, 'G': 0, 'H': 0, 'I': 0}\n"
     ]
    }
   ],
   "source": [
    " # Implement code for 3.2 here\n",
    "# accept integer as parameter to create a size*size board\n",
    "def create_board(size):\n",
    "    colum_total = ['A','B','C','D','E','F','G','H','I','J','K','L','M',\n",
    "                   'N','O','P','Q','R','S','T','U','V','W','X','Y','Z']\n",
    "    row = size\n",
    "    colum = size\n",
    "    colum_index = colum_total[:size]\n",
    "    board = []\n",
    "    for i in range(row):\n",
    "        colum_dic = {}\n",
    "        for j in range(colum):\n",
    "            colum_dic[colum_index[j]] = 0\n",
    "        board.append(colum_dic)\n",
    "        \n",
    "    return board\n",
    "        \n",
    "for item in create_board(9):\n",
    "    print(item)\n",
    "    \n",
    "    "
   ]
  },
  {
   "cell_type": "code",
   "execution_count": 6,
   "id": "89914e6e",
   "metadata": {},
   "outputs": [
    {
     "name": "stdout",
     "output_type": "stream",
     "text": [
      "{'A': 0, 'B': 0, 'C': 0, 'D': 0, 'E': 0, 'F': 0, 'G': 0, 'H': 0, 'I': 0}\n",
      "{'A': 0, 'B': 0, 'C': 0, 'D': 0, 'E': 0, 'F': 0, 'G': 0, 'H': 0, 'I': 0}\n",
      "{'A': 0, 'B': 0, 'C': 0, 'D': 0, 'E': 0, 'F': 0, 'G': 0, 'H': 0, 'I': 0}\n",
      "{'A': 0, 'B': 0, 'C': 0, 'D': 0, 'E': 0, 'F': 0, 'G': 0, 'H': 0, 'I': 0}\n",
      "{'A': 0, 'B': 0, 'C': 0, 'D': 0, 'E': 0, 'F': 0, 'G': 0, 'H': 0, 'I': 0}\n",
      "{'A': 0, 'B': 0, 'C': 0, 'D': 0, 'E': 0, 'F': 0, 'G': 0, 'H': 0, 'I': 0}\n",
      "{'A': 0, 'B': 0, 'C': 0, 'D': 0, 'E': 0, 'F': 0, 'G': 0, 'H': 0, 'I': 0}\n",
      "{'A': 0, 'B': 0, 'C': 0, 'D': 0, 'E': 0, 'F': 0, 'G': 0, 'H': 0, 'I': 0}\n",
      "{'A': 0, 'B': 0, 'C': 0, 'D': 0, 'E': 0, 'F': 0, 'G': 0, 'H': 0, 'I': 0}\n"
     ]
    }
   ],
   "source": [
    "# Test code for 3.2 here [The code in this cell should be commented]\n",
    " # Implement code for 3.2 here\n",
    "def create_board(size):\n",
    "    colum_total = ['A','B','C','D','E','F','G','H','I','J','K','L','M',\n",
    "                   'N','O','P','Q','R','S','T','U','V','W','X','Y','Z']\n",
    "    row = size\n",
    "    colum = size\n",
    "    colum_index = colum_total[:size]\n",
    "    board = []\n",
    "    for i in range(row):\n",
    "        colum_dic = {}\n",
    "        for j in range(colum):\n",
    "            colum_dic[colum_index[j]] = 0\n",
    "        board.append(colum_dic)\n",
    "        \n",
    "    return board\n",
    "        \n",
    "for item in create_board(9):\n",
    "    print(item)"
   ]
  },
  {
   "cell_type": "markdown",
   "id": "5a211de8",
   "metadata": {},
   "source": [
    "### 3.3 Is the target position occupied?"
   ]
  },
  {
   "cell_type": "code",
   "execution_count": 7,
   "id": "85c0b4ad",
   "metadata": {},
   "outputs": [],
   "source": [
    " # Implement code for 3.3 here\n",
    "def is_occupied(board,x,y):\n",
    "    value_board = board[x].get(y)\n",
    "    if  value_board == 0:\n",
    "        return False\n",
    "    else:\n",
    "        return True\n",
    "    \n"
   ]
  },
  {
   "cell_type": "code",
   "execution_count": 8,
   "id": "a53db902",
   "metadata": {},
   "outputs": [
    {
     "data": {
      "text/plain": [
       "False"
      ]
     },
     "execution_count": 8,
     "metadata": {},
     "output_type": "execute_result"
    }
   ],
   "source": [
    "# Test code for 3.3 here [The code in this cell should be commented]\n",
    "def is_occupied(board, x, y):\n",
    "    value_board = board[x].get(y)\n",
    "    if  value_board == 0:\n",
    "        return False\n",
    "    else:\n",
    "        return True\n",
    "    \n",
    "board = create_board(9)\n",
    "is_occupied(board,3,'F')"
   ]
  },
  {
   "cell_type": "markdown",
   "id": "83ef5d64",
   "metadata": {},
   "source": [
    "### 3.4 Placing a Stone at a Specific Intersection"
   ]
  },
  {
   "cell_type": "code",
   "execution_count": 9,
   "id": "8cae464e",
   "metadata": {},
   "outputs": [],
   "source": [
    " # Implement code for 3.4 here\n",
    "def place_on_board(board, stone, position):\n",
    "    x = int(position[0])\n",
    "    y = position[1]\n",
    "    if is_occupied(board,x,y):\n",
    "        print(\"There is already a stone\")                  \n",
    "    else:\n",
    "        board[x][y] = board[x][y] + stone"
   ]
  },
  {
   "cell_type": "code",
   "execution_count": 10,
   "id": "0b26fb7a",
   "metadata": {},
   "outputs": [
    {
     "name": "stdout",
     "output_type": "stream",
     "text": [
      "{'A': 0, 'B': 0, 'C': 0, 'D': 0, 'E': 0, 'F': 0, 'G': 0, 'H': 0, 'I': 0}\n",
      "{'A': 1, 'B': 0, 'C': 0, 'D': 0, 'E': 0, 'F': 0, 'G': 0, 'H': 0, 'I': 0}\n",
      "{'A': 0, 'B': 0, 'C': 0, 'D': 0, 'E': 0, 'F': 0, 'G': 0, 'H': 0, 'I': 0}\n",
      "{'A': 0, 'B': 0, 'C': 0, 'D': 0, 'E': 0, 'F': 0, 'G': 0, 'H': 0, 'I': 0}\n",
      "{'A': 0, 'B': 0, 'C': 0, 'D': 0, 'E': 0, 'F': 0, 'G': 0, 'H': 0, 'I': 0}\n",
      "{'A': 0, 'B': 0, 'C': 0, 'D': 0, 'E': 0, 'F': 0, 'G': 0, 'H': 0, 'I': 0}\n",
      "{'A': 0, 'B': 0, 'C': 0, 'D': 0, 'E': 0, 'F': 0, 'G': 0, 'H': 0, 'I': 0}\n",
      "{'A': 0, 'B': 0, 'C': 0, 'D': 0, 'E': 0, 'F': 0, 'G': 0, 'H': 0, 'I': 0}\n",
      "{'A': 0, 'B': 0, 'C': 0, 'D': 0, 'E': 0, 'F': 0, 'G': 0, 'H': 0, 'I': 0}\n"
     ]
    }
   ],
   "source": [
    "# Test code for 3.4 here [The code in this cell should be commented]\n",
    "def place_on_board(board, stone, position):\n",
    "    x = int(position[0])\n",
    "    y = position[1]\n",
    "    if is_occupied(board,x,y):\n",
    "        print(\"There is already a stone\")                  \n",
    "    else:\n",
    "        board[x][y] = board[x][y] + stone\n",
    "        \n",
    "    \n",
    "position = (1,'A')\n",
    "board = create_board(9)\n",
    "place_on_board(board, 1, position)\n",
    "for item in board:\n",
    "    print(item)"
   ]
  },
  {
   "cell_type": "markdown",
   "id": "08d45532",
   "metadata": {},
   "source": [
    "### 3.5 Printing the Board"
   ]
  },
  {
   "cell_type": "code",
   "execution_count": 11,
   "id": "96efddd0",
   "metadata": {},
   "outputs": [],
   "source": [
    " # Implement code for 3.5 here\n",
    "def print_board(board):\n",
    "    for akey in board[0].keys():\n",
    "        board_colum_last = akey\n",
    "    for k in board[0]:\n",
    "        print(k, end = '  ')\n",
    "    print(\"\\n\")\n",
    "    for i in range(len(board)):\n",
    "        for j in board[i]:\n",
    "            if j == akey:\n",
    "                if board[i][j] == 0:\n",
    "                    print(\" \",\" \",i)\n",
    "                elif board[i][j] == 1:\n",
    "                    print(\"●\",\" \",i)\n",
    "                else:\n",
    "                    print(\"○\",\" \",i)\n",
    "            elif board[i][j] == 0:\n",
    "                print(\" --\",end = \"\")\n",
    "            elif board[i][j] == 1:\n",
    "                print(\"●--\",end = \"\")\n",
    "            else:\n",
    "                print(\"○--\",end = \"\")\n",
    "                \n",
    "        if i + 1 == len(board[i]):\n",
    "            break\n",
    "            \n",
    "        for l in range(len(board[i])):\n",
    "            if l == len(board[i]) - 1:\n",
    "                print(\"|\")\n",
    "            else:\n",
    "                print(\"|  \",end = \"\")\n",
    "                \n"
   ]
  },
  {
   "cell_type": "code",
   "execution_count": 12,
   "id": "4dfdf23d",
   "metadata": {
    "scrolled": true
   },
   "outputs": [
    {
     "name": "stdout",
     "output_type": "stream",
     "text": [
      "A  B  C  D  E  F  G  H  I  \n",
      "\n",
      " -- -- -- -- -- -- -- --    0\n",
      "|  |  |  |  |  |  |  |  |\n",
      " -- -- -- -- -- -- -- --    1\n",
      "|  |  |  |  |  |  |  |  |\n",
      " -- -- -- -- -- -- -- --    2\n",
      "|  |  |  |  |  |  |  |  |\n",
      "●-- -- -- -- -- -- -- --    3\n",
      "|  |  |  |  |  |  |  |  |\n",
      " -- -- -- -- -- -- -- --    4\n",
      "|  |  |  |  |  |  |  |  |\n",
      " -- -- -- -- -- -- -- --    5\n",
      "|  |  |  |  |  |  |  |  |\n",
      " -- -- -- -- -- -- -- --    6\n",
      "|  |  |  |  |  |  |  |  |\n",
      " -- -- -- -- -- -- -- --    7\n",
      "|  |  |  |  |  |  |  |  |\n",
      " -- -- -- -- -- -- -- --    8\n"
     ]
    }
   ],
   "source": [
    "# Test code for 3.5 here [The code in this cell should be commented]\n",
    "\n",
    "def print_board(board):\n",
    "    for akey in board[0].keys():\n",
    "        board_colum_last = akey\n",
    "    for k in board[0]:\n",
    "        print(k, end = '  ')\n",
    "    print(\"\\n\")\n",
    "    for i in range(len(board)):\n",
    "        for j in board[i]:\n",
    "            if j == akey:\n",
    "                if board[i][j] == 0:\n",
    "                    print(\" \",\" \",i)\n",
    "                elif board[i][j] == 1:\n",
    "                    print(\"●\",\" \",i)\n",
    "                else:\n",
    "                    print(\"○\",\" \",i)\n",
    "            elif board[i][j] == 0:\n",
    "                print(\" --\",end = \"\")\n",
    "            elif board[i][j] == 1:\n",
    "                print(\"●--\",end = \"\")\n",
    "            else:\n",
    "                print(\"○--\",end = \"\")\n",
    "                \n",
    "        if i + 1 == len(board[i]):\n",
    "            break\n",
    "            \n",
    "        for l in range(len(board[i])):\n",
    "            if l == len(board[i]) - 1:\n",
    "                print(\"|\")\n",
    "            else:\n",
    "                print(\"|  \",end = \"\")\n",
    "                \n",
    "board = create_board(9)\n",
    "place_on_board(board,1,(3,'A'))\n",
    "print_board(board)"
   ]
  },
  {
   "cell_type": "markdown",
   "id": "cce46567",
   "metadata": {},
   "source": [
    "### 3.6 Check Available Moves"
   ]
  },
  {
   "cell_type": "code",
   "execution_count": 13,
   "id": "1421cbd6",
   "metadata": {},
   "outputs": [],
   "source": [
    " # Implement code for 3.6 here\n",
    "def check_available_moves(board):\n",
    "    available_list = []\n",
    "    for i in range(len(board)):\n",
    "        for j in board[i]:\n",
    "            if board[i][j] == 0:\n",
    "                available_tuple = (str(i),j)\n",
    "                available_list.append(available_tuple)\n",
    "    if len(available_list) == 0:\n",
    "        return available_list\n",
    "    return available_list\n"
   ]
  },
  {
   "cell_type": "code",
   "execution_count": 14,
   "id": "15f6ada2",
   "metadata": {},
   "outputs": [
    {
     "name": "stdout",
     "output_type": "stream",
     "text": [
      "A  B  C  D  E  F  G  H  I  \n",
      "\n",
      " -- -- -- -- -- -- -- --    0\n",
      "|  |  |  |  |  |  |  |  |\n",
      " -- -- -- -- -- -- -- --    1\n",
      "|  |  |  |  |  |  |  |  |\n",
      " -- -- -- -- -- -- -- --    2\n",
      "|  |  |  |  |  |  |  |  |\n",
      "●-- -- -- -- -- -- -- --    3\n",
      "|  |  |  |  |  |  |  |  |\n",
      " -- -- -- -- -- -- -- --    4\n",
      "|  |  |  |  |  |  |  |  |\n",
      " -- -- -- -- -- -- -- --    5\n",
      "|  |  |  |  |  |  |  |  |\n",
      " -- -- -- -- -- -- -- --    6\n",
      "|  |  |  |  |  |  |  |  |\n",
      " -- -- -- -- -- -- -- --    7\n",
      "|  |  |  |  |  |  |  |  |\n",
      " -- -- -- -- -- -- -- --    8\n",
      "[('0', 'A'), ('0', 'B'), ('0', 'C'), ('0', 'D'), ('0', 'E'), ('0', 'F'), ('0', 'G'), ('0', 'H'), ('0', 'I'), ('1', 'A'), ('1', 'B'), ('1', 'C'), ('1', 'D'), ('1', 'E'), ('1', 'F'), ('1', 'G'), ('1', 'H'), ('1', 'I'), ('2', 'A'), ('2', 'B'), ('2', 'C'), ('2', 'D'), ('2', 'E'), ('2', 'F'), ('2', 'G'), ('2', 'H'), ('2', 'I'), ('3', 'B'), ('3', 'C'), ('3', 'D'), ('3', 'E'), ('3', 'F'), ('3', 'G'), ('3', 'H'), ('3', 'I'), ('4', 'A'), ('4', 'B'), ('4', 'C'), ('4', 'D'), ('4', 'E'), ('4', 'F'), ('4', 'G'), ('4', 'H'), ('4', 'I'), ('5', 'A'), ('5', 'B'), ('5', 'C'), ('5', 'D'), ('5', 'E'), ('5', 'F'), ('5', 'G'), ('5', 'H'), ('5', 'I'), ('6', 'A'), ('6', 'B'), ('6', 'C'), ('6', 'D'), ('6', 'E'), ('6', 'F'), ('6', 'G'), ('6', 'H'), ('6', 'I'), ('7', 'A'), ('7', 'B'), ('7', 'C'), ('7', 'D'), ('7', 'E'), ('7', 'F'), ('7', 'G'), ('7', 'H'), ('7', 'I'), ('8', 'A'), ('8', 'B'), ('8', 'C'), ('8', 'D'), ('8', 'E'), ('8', 'F'), ('8', 'G'), ('8', 'H'), ('8', 'I')]\n"
     ]
    }
   ],
   "source": [
    "# Test code for 3.6 here [The code in this cell should be commented]\n",
    "def check_available_moves(board):\n",
    "    available_list = []\n",
    "    for i in range(len(board)):\n",
    "        for j in board[i]:\n",
    "            if board[i][j] == 0:\n",
    "                available_tuple = (str(i),j)\n",
    "                available_list.append(available_tuple)\n",
    "    if len(available_list) == 0:\n",
    "        return available_list\n",
    "    return available_list\n",
    "    \n",
    "board = create_board(9)\n",
    "place_on_board(board,1,(3,'A'))\n",
    "print_board(board)\n",
    "print(check_available_moves(board))\n"
   ]
  },
  {
   "cell_type": "markdown",
   "id": "1aa4e443",
   "metadata": {},
   "source": [
    "### 3.7 Check for the Winner"
   ]
  },
  {
   "cell_type": "code",
   "execution_count": 15,
   "id": "b180e465",
   "metadata": {},
   "outputs": [],
   "source": [
    " # Implement code for 3.7 here\n",
    "def check_for_winner(board):\n",
    "    size = len(board)\n",
    "    colum_total = [chr(65 + i) for i in range(size)]\n",
    "    for i in range(len(board)):\n",
    "        for j in range(len(board[i]) - 4):\n",
    "            if all(board[i][colum_total[j + k]] == 1 for k in range(5)):\n",
    "                   return '●'\n",
    "            if all(board[i][colum_total[j + k]] == 2 for k in range(5)):\n",
    "                   return '○'\n",
    "    for i in range(len(board) - 4):\n",
    "        for j in range(len(board[i])):\n",
    "            if all(board[i + k][colum_total[j]] == 1 for k in range(5)):\n",
    "                   return '●'\n",
    "            if all(board[i + k][colum_total[j]] == 2 for k in range(5)):\n",
    "                   return '○'\n",
    "    \n",
    "    for i in range(len(board) - 4):\n",
    "        for j in range(len(board[i]) - 4):\n",
    "            if all(board[i + k][colum_total[j + k]] == 1 for k in range(5)):\n",
    "                   return '●'\n",
    "            if all(board[i + k][colum_total[j + k]] == 2 for k in range(5)):\n",
    "                   return '○'\n",
    "    \n",
    "    for i in range(len(board) - 4):\n",
    "        for j in range(4,len(board[i])):\n",
    "            if all(board[i + k][colum_total[j - k]] == 1 for k in range(5)):\n",
    "                   return '●'\n",
    "            if all(board[i + k][colum_total[j - k]] == 2 for k in range(5)):\n",
    "                   return '○'\n",
    "    if check_available_moves(board) == []:\n",
    "        return \"Draw\"\n",
    "    else:\n",
    "        return None\n",
    "\n",
    "    \n"
   ]
  },
  {
   "cell_type": "code",
   "execution_count": 16,
   "id": "eb8c7b4a",
   "metadata": {},
   "outputs": [
    {
     "name": "stdout",
     "output_type": "stream",
     "text": [
      "A  B  C  D  E  F  G  H  I  \n",
      "\n",
      " -- -- -- -- -- -- -- --    0\n",
      "|  |  |  |  |  |  |  |  |\n",
      " -- -- -- -- -- -- -- --    1\n",
      "|  |  |  |  |  |  |  |  |\n",
      " -- -- -- -- -- -- -- --    2\n",
      "|  |  |  |  |  |  |  |  |\n",
      "●-- -- -- -- -- -- -- --    3\n",
      "|  |  |  |  |  |  |  |  |\n",
      " -- -- -- -- -- -- -- --    4\n",
      "|  |  |  |  |  |  |  |  |\n",
      " -- -- -- -- -- -- -- --    5\n",
      "|  |  |  |  |  |  |  |  |\n",
      " -- -- -- -- -- -- -- --    6\n",
      "|  |  |  |  |  |  |  |  |\n",
      " -- -- -- -- -- -- -- --    7\n",
      "|  |  |  |  |  |  |  |  |\n",
      " -- -- -- -- -- -- -- --    8\n",
      "[('0', 'A'), ('0', 'B'), ('0', 'C'), ('0', 'D'), ('0', 'E'), ('0', 'F'), ('0', 'G'), ('0', 'H'), ('0', 'I'), ('1', 'A'), ('1', 'B'), ('1', 'C'), ('1', 'D'), ('1', 'E'), ('1', 'F'), ('1', 'G'), ('1', 'H'), ('1', 'I'), ('2', 'A'), ('2', 'B'), ('2', 'C'), ('2', 'D'), ('2', 'E'), ('2', 'F'), ('2', 'G'), ('2', 'H'), ('2', 'I'), ('3', 'B'), ('3', 'C'), ('3', 'D'), ('3', 'E'), ('3', 'F'), ('3', 'G'), ('3', 'H'), ('3', 'I'), ('4', 'A'), ('4', 'B'), ('4', 'C'), ('4', 'D'), ('4', 'E'), ('4', 'F'), ('4', 'G'), ('4', 'H'), ('4', 'I'), ('5', 'A'), ('5', 'B'), ('5', 'C'), ('5', 'D'), ('5', 'E'), ('5', 'F'), ('5', 'G'), ('5', 'H'), ('5', 'I'), ('6', 'A'), ('6', 'B'), ('6', 'C'), ('6', 'D'), ('6', 'E'), ('6', 'F'), ('6', 'G'), ('6', 'H'), ('6', 'I'), ('7', 'A'), ('7', 'B'), ('7', 'C'), ('7', 'D'), ('7', 'E'), ('7', 'F'), ('7', 'G'), ('7', 'H'), ('7', 'I'), ('8', 'A'), ('8', 'B'), ('8', 'C'), ('8', 'D'), ('8', 'E'), ('8', 'F'), ('8', 'G'), ('8', 'H'), ('8', 'I')]\n",
      "None\n"
     ]
    }
   ],
   "source": [
    "# Test code for 3.7 here [The code in this cell should be commented]\n",
    "def check_for_winner(board):\n",
    "    size = len(board)\n",
    "#     colum_total = ['A','B','C','D','E','F','G','H','I','J','K','L','M',\n",
    "#                    'N','O','P','Q','R','S','T','U','V','W','X','Y','Z']\n",
    "    colum_total = [chr(65 + i) for i in range(size)]\n",
    "    for i in range(len(board)):\n",
    "        for j in range(len(board[i]) - 4):\n",
    "            if all(board[i][colum_total[j + k]] == 1 for k in range(5)):\n",
    "                   return '●'\n",
    "            if all(board[i][colum_total[j + k]] == 2 for k in range(5)):\n",
    "                   return '○'\n",
    "    for i in range(len(board) - 4):\n",
    "        for j in range(len(board[i])):\n",
    "            if all(board[i + k][colum_total[j]] == 1 for k in range(5)):\n",
    "                   return '●'\n",
    "            if all(board[i + k][colum_total[j]] == 2 for k in range(5)):\n",
    "                   return '○'\n",
    "    \n",
    "    for i in range(len(board) - 4):\n",
    "        for j in range(len(board[i]) - 4):\n",
    "            if all(board[i + k][colum_total[j + k]] == 1 for k in range(5)):\n",
    "                   return '●'\n",
    "            if all(board[i + k][colum_total[j + k]] == 2 for k in range(5)):\n",
    "                   return '○'\n",
    "    \n",
    "    for i in range(len(board) - 4):\n",
    "        for j in range(4,len(board[i])):\n",
    "            if all(board[i + k][colum_total[j - k]] == 1 for k in range(5)):\n",
    "                   return '●'\n",
    "            if all(board[i + k][colum_total[j - k]] == 2 for k in range(5)):\n",
    "                   return '○'\n",
    "    if check_available_moves(board) == []:\n",
    "        return \"Draw\"\n",
    "    else:\n",
    "        return None\n",
    "\n",
    "    \n",
    "board = create_board(9)\n",
    "place_on_board(board,1,(3,'A'))\n",
    "print_board(board)\n",
    "print(check_available_moves(board))\n",
    "print(check_for_winner(board))"
   ]
  },
  {
   "cell_type": "markdown",
   "id": "9fb9133d",
   "metadata": {},
   "source": [
    "### 3.8 Random Computer Player"
   ]
  },
  {
   "cell_type": "code",
   "execution_count": 17,
   "id": "be8be4d4",
   "metadata": {},
   "outputs": [],
   "source": [
    " # Implement code for 3.8 here\n",
    "import random\n",
    "    \n",
    "def random_computer_player(board,play_move):\n",
    "    row = int(play_move[0])\n",
    "    col = ord(play_move[1])\n",
    "    available_moves = []\n",
    "    \n",
    "    for i in range(row - 1,row + 2):\n",
    "        for j in range(col - 1,col + 2):\n",
    "            if 0 <= i < len(board) and ord(A) <= j < ord(board[0][ord(col) + len(board) - 1]) and board[i][chr(j)] == 0:\n",
    "                available_moves.append((str(row),chr(col)))\n",
    "    if not available_moves:\n",
    "        return  random.choice(check_available_moves)\n",
    "    \n",
    "    comp_stone_place = random.choice(available_moves)\n",
    "    place_on_board(board,str(comp_stone_place[0],comp_stone_place[1]))\n",
    "    "
   ]
  },
  {
   "cell_type": "code",
   "execution_count": 18,
   "id": "49f65cd1",
   "metadata": {},
   "outputs": [
    {
     "name": "stdout",
     "output_type": "stream",
     "text": [
      "('2', 'G')\n"
     ]
    }
   ],
   "source": [
    "# Test code for 3.8 here [The code in this cell should be commented]\n",
    "import random\n",
    "    \n",
    "def random_computer_player(board,play_move):\n",
    "    row = int(play_move[0])\n",
    "    col = ord(play_move[1])\n",
    "    available_moves = []\n",
    "    \n",
    "    for i in range(row - 1,row + 2):\n",
    "        for j in range(col - 1,col + 2):\n",
    "            if 0 <= i < len(board) and \\\n",
    "            ord('A') <= j < ord('A') + len(board) - 1 and \\\n",
    "            board[i][chr(j)] == 0:\n",
    "                available_moves.append((str(i),chr(j)))\n",
    "    if not available_moves:\n",
    "        return  random.choice(check_available_moves)\n",
    "    \n",
    "    comp_move = random.choice(available_moves)\n",
    "    \n",
    "    return comp_move\n",
    "\n",
    "    \n",
    "board = create_board(9)\n",
    "play_move = ('3','H')\n",
    "print(random_computer_player(board,play_move))"
   ]
  },
  {
   "cell_type": "markdown",
   "id": "2972eb0f",
   "metadata": {},
   "source": [
    "### 3.9 Play Game"
   ]
  },
  {
   "cell_type": "code",
   "execution_count": null,
   "id": "afc2655a",
   "metadata": {
    "scrolled": false
   },
   "outputs": [
    {
     "name": "stdout",
     "output_type": "stream",
     "text": [
      "1.start a game\n",
      "2.print the board\n",
      "3.place a stone\n",
      "4.reset the game\n",
      "5.exit\n",
      "press the number to select from the options1\n"
     ]
    }
   ],
   "source": [
    " # Implement code for 3.9 here\n",
    "def play_game():\n",
    "    \n",
    "    player1_stone = '●'\n",
    "    player2_stone = '○'\n",
    "    board = None\n",
    "    \n",
    "    while True:\n",
    "        \n",
    "        game_menu()\n",
    "        \n",
    "        while True:\n",
    "            user_choice = input(\"press the number to select from the options\")\n",
    "            \n",
    "            if not user_choice.isdigit():\n",
    "                print(\"Invalid input. Please enter a valid integer.\")\n",
    "                continue\n",
    "                \n",
    "            user_choice = int(user_choice)\n",
    "            \n",
    "            if not (1 <= user_choice <=5):\n",
    "                print(\"you can only input number from the menu\")\n",
    "            else:\n",
    "                break\n",
    "            \n",
    "        if  user_choice == 1:\n",
    "            \n",
    "            while True:\n",
    "                board_size = input(\"Type in the size of the board (should be between 9 and 26): \")\n",
    "    \n",
    "                if not board_size.isdigit():\n",
    "                    print(\"Invalid input. Please enter a valid integer.\")\n",
    "                    continue\n",
    "    \n",
    "                board_size = int(board_size)\n",
    "    \n",
    "                if not (9 <= board_size <= 26):\n",
    "                     print(\"The size should be between 9 and 26.\")\n",
    "                else:\n",
    "                    break\n",
    "                    \n",
    "            play_mode = input(\"press 1 to player vs computer，press 2 to player vs player\")\n",
    "            while play_mode not in ['1','2']:\n",
    "                print(\"you should press 1 or 2\")\n",
    "                play_mode = input(\"press 1 to player vs computer，press 2 to player vs player\")\n",
    "                \n",
    "            board = create_board(board_size)\n",
    "            print(\"a board in size of\",board_size,\"*\",board_size,\"is created\")\n",
    "            \n",
    "        elif user_choice == 2:\n",
    "            \n",
    "            if board == None:\n",
    "                print(\"the board is not created yet\")\n",
    "            else:\n",
    "                print_board(board)\n",
    "            \n",
    "        elif user_choice == 3:\n",
    "            \n",
    "            if board is None:\n",
    "                print(\"No game in progress.\")\n",
    "            \n",
    "            if play_mode == '1':\n",
    "                print_board(board)\n",
    "                while True:\n",
    "                    player_position = input(\"player place your stone,the input format should be[row_index] [colum_index]\").replace(\" \",\"\")\n",
    "                    if 0 <= int(player_position[0]) < board_size and ord('A') <= ord(player_position[1]) <= ord('Z') and len(player_position) == 2:\n",
    "                        \n",
    "                        player_position_tuple =(player_position[0],player_position[1])\n",
    "                        player_position_x = int(player_position_tuple[0])\n",
    "                        player_position_y = player_position_tuple[1]\n",
    "                        player_occupy_or_not = is_occupied(board,player_position_x,player_position_y)\n",
    "                        \n",
    "                        if player_occupy_or_not:\n",
    "                            print(\"The position is occupied\")\n",
    "                            continue\n",
    "                            \n",
    "                    else:\n",
    "                            print(\"you should type in value in the format of 1 B\")\n",
    "                            continue\n",
    "                            \n",
    "                    place_on_board(board,1,player_position_tuple)\n",
    "                    print_board(board)\n",
    "                    \n",
    "                    if check_for_winner(board) != None:\n",
    "                        break\n",
    "                            \n",
    "                    computer_position_tuple = random_computer_player(board,player_position_tuple)\n",
    "                    place_on_board(board,2,computer_position_tuple)\n",
    "                    print_board(board)\n",
    "                    if check_for_winner(board) != None:\n",
    "                        break\n",
    "                    \n",
    "                end_situation = check_for_winner(board)\n",
    "                if end_situation == '●':\n",
    "                    print(\"Congrates! '●' player win!\")\n",
    "                elif end_situation == '○':\n",
    "                    print(\"Sorry! Computer win!\")\n",
    "                elif end_situation == 'Draw':\n",
    "                    print(\"Draw\")\n",
    "                board = None\n",
    "                play_mode = None\n",
    "                \n",
    "            if play_mode == '2':\n",
    "                \n",
    "                    print_board(board)\n",
    "                    while True:\n",
    "                        \n",
    "                        while True:\n",
    "                            player_position = input(\"player1 place your stone,the input format should be[row_index] [colum_index]\").replace(\" \",\"\")\n",
    "                            if 0 <= int(player_position[0]) < board_size and ord('A') <= ord(player_position[1]) <= ord('Z') and len(player_position) == 2:\n",
    "                        \n",
    "                                player_position_tuple =(player_position[0],player_position[1])\n",
    "                                player_position_x = int(player_position_tuple[0])\n",
    "                                player_position_y = player_position_tuple[1]\n",
    "                                player_occupy_or_not = is_occupied(board,player_position_x,player_position_y)\n",
    "                        \n",
    "                                if player_occupy_or_not:\n",
    "                                    print(\"The position is occupied\")\n",
    "                                    continue\n",
    "                            \n",
    "                            else:\n",
    "                                print(\"you should type in value in the format of 1 B\")\n",
    "                                continue\n",
    "                            \n",
    "                            place_on_board(board,1,player_position_tuple)\n",
    "                            print_board(board)\n",
    "                            \n",
    "                            break\n",
    "                            \n",
    "                        if check_for_winner(board) != None:\n",
    "                            break\n",
    "                        \n",
    "                        while True:\n",
    "                            player_position = input(\"player2 place your stone,the input format should be[row_index] [colum_index]\").replace(\" \",\"\")\n",
    "                            if 0 <= int(player_position[0]) < board_size and ord('A') <= ord(player_position[1]) <= ord('Z') and len(player_position) == 2:\n",
    "                        \n",
    "                                player_position_tuple =(player_position[0],player_position[1])\n",
    "                                player_position_x = int(player_position_tuple[0])\n",
    "                                player_position_y = player_position_tuple[1]\n",
    "                                player_occupy_or_not = is_occupied(board,player_position_x,player_position_y)\n",
    "                        \n",
    "                                if player_occupy_or_not:\n",
    "                                    print(\"The position is occupied\")\n",
    "                                    continue\n",
    "                                \n",
    "                            else:\n",
    "                                print(\"you should type in value in the format of 1 B\")\n",
    "                                continue\n",
    "                            \n",
    "                            place_on_board(board,2,player_position_tuple)\n",
    "                            print_board(board)\n",
    "                            break\n",
    "                            \n",
    "                        if check_for_winner(board) != None:\n",
    "                            break\n",
    "                    \n",
    "                    end_situation = check_for_winner(board)\n",
    "                    if end_situation == '●':\n",
    "                        print(\"Congrates! ● player1 win!\")\n",
    "                    elif end_situation == '○':\n",
    "                        print(\"Congrates! ○ player2 win!\")\n",
    "                    elif end_situation == 'Draw':\n",
    "                        print(\"Draw\")\n",
    "                    board = None\n",
    "                    play_mode = None\n",
    "                              \n",
    "        elif user_choice == 4:\n",
    "            board = None\n",
    "            play_mode = None\n",
    "            \n",
    "        elif user_choice == 5:\n",
    "            break\n",
    "play_game()"
   ]
  },
  {
   "cell_type": "code",
   "execution_count": null,
   "id": "78c984c5",
   "metadata": {},
   "outputs": [],
   "source": [
    "# Test code for 3.9 here [The code in this cell should be commented]\n"
   ]
  },
  {
   "cell_type": "code",
   "execution_count": null,
   "id": "ba78e36e",
   "metadata": {},
   "outputs": [],
   "source": [
    "#Run the game (Your tutor will run this cell to start playing the game)\n",
    "play_game()"
   ]
  },
  {
   "cell_type": "markdown",
   "id": "ce3460c3",
   "metadata": {},
   "source": [
    "## Documentation of Optimizations\n",
    "##### If you have implemented any optimizations in the above program, please include a list of these optimizations along with a brief explanation for each in this section."
   ]
  },
  {
   "cell_type": "markdown",
   "id": "eec894f0",
   "metadata": {},
   "source": [
    "# <div style=\"color:#000000; font-weight:bold; text-align:center;\">\n",
    "    <h3>--- End of Assignment 1 ---</h3>\n",
    "</div>"
   ]
  },
  {
   "cell_type": "code",
   "execution_count": null,
   "id": "e2bd6cd2",
   "metadata": {},
   "outputs": [],
   "source": []
  },
  {
   "cell_type": "code",
   "execution_count": null,
   "id": "82045d8c",
   "metadata": {},
   "outputs": [],
   "source": []
  },
  {
   "cell_type": "code",
   "execution_count": null,
   "id": "652d6055",
   "metadata": {},
   "outputs": [],
   "source": []
  }
 ],
 "metadata": {
  "kernelspec": {
   "display_name": "Python 3 (ipykernel)",
   "language": "python",
   "name": "python3"
  },
  "language_info": {
   "codemirror_mode": {
    "name": "ipython",
    "version": 3
   },
   "file_extension": ".py",
   "mimetype": "text/x-python",
   "name": "python",
   "nbconvert_exporter": "python",
   "pygments_lexer": "ipython3",
   "version": "3.11.3"
  }
 },
 "nbformat": 4,
 "nbformat_minor": 5
}
